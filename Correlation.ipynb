{
 "cells": [
  {
   "cell_type": "markdown",
   "metadata": {},
   "source": [
    "Run the cells below if you need to install the necessary Python libraries"
   ]
  },
  {
   "cell_type": "code",
   "execution_count": 4,
   "metadata": {
    "collapsed": false
   },
   "outputs": [
    {
     "name": "stdout",
     "output_type": "stream",
     "text": [
      "Requirement already satisfied: pandas in c:\\users\\david\\appdata\\local\\programs\\python\\python37-32\\lib\\site-packages (0.24.2)\n",
      "Requirement already satisfied: pytz>=2011k in c:\\users\\david\\appdata\\local\\programs\\python\\python37-32\\lib\\site-packages (from pandas) (2018.9)\n",
      "Requirement already satisfied: numpy>=1.12.0 in c:\\users\\david\\appdata\\local\\programs\\python\\python37-32\\lib\\site-packages (from pandas) (1.16.2)\n",
      "Requirement already satisfied: python-dateutil>=2.5.0 in c:\\users\\david\\appdata\\local\\programs\\python\\python37-32\\lib\\site-packages (from pandas) (2.8.0)\n",
      "Requirement already satisfied: six>=1.5 in c:\\users\\david\\appdata\\local\\programs\\python\\python37-32\\lib\\site-packages (from python-dateutil>=2.5.0->pandas) (1.12.0)\n",
      "Requirement already satisfied: seaborn in c:\\users\\david\\appdata\\local\\programs\\python\\python37-32\\lib\\site-packages (0.9.0)\n",
      "Requirement already satisfied: matplotlib>=1.4.3 in c:\\users\\david\\appdata\\local\\programs\\python\\python37-32\\lib\\site-packages (from seaborn) (3.0.3)\n",
      "Requirement already satisfied: numpy>=1.9.3 in c:\\users\\david\\appdata\\local\\programs\\python\\python37-32\\lib\\site-packages (from seaborn) (1.16.2)\n",
      "Requirement already satisfied: scipy>=0.14.0 in c:\\users\\david\\appdata\\local\\programs\\python\\python37-32\\lib\\site-packages (from seaborn) (1.2.1)\n",
      "Requirement already satisfied: pandas>=0.15.2 in c:\\users\\david\\appdata\\local\\programs\\python\\python37-32\\lib\\site-packages (from seaborn) (0.24.2)\n",
      "Requirement already satisfied: kiwisolver>=1.0.1 in c:\\users\\david\\appdata\\local\\programs\\python\\python37-32\\lib\\site-packages (from matplotlib>=1.4.3->seaborn) (1.0.1)\n",
      "Requirement already satisfied: python-dateutil>=2.1 in c:\\users\\david\\appdata\\local\\programs\\python\\python37-32\\lib\\site-packages (from matplotlib>=1.4.3->seaborn) (2.8.0)\n",
      "Requirement already satisfied: cycler>=0.10 in c:\\users\\david\\appdata\\local\\programs\\python\\python37-32\\lib\\site-packages (from matplotlib>=1.4.3->seaborn) (0.10.0)\n",
      "Requirement already satisfied: pyparsing!=2.0.4,!=2.1.2,!=2.1.6,>=2.0.1 in c:\\users\\david\\appdata\\local\\programs\\python\\python37-32\\lib\\site-packages (from matplotlib>=1.4.3->seaborn) (2.4.0)\n",
      "Requirement already satisfied: pytz>=2011k in c:\\users\\david\\appdata\\local\\programs\\python\\python37-32\\lib\\site-packages (from pandas>=0.15.2->seaborn) (2018.9)\n",
      "Requirement already satisfied: setuptools in c:\\users\\david\\appdata\\local\\programs\\python\\python37-32\\lib\\site-packages (from kiwisolver>=1.0.1->matplotlib>=1.4.3->seaborn) (40.6.2)\n",
      "Requirement already satisfied: six>=1.5 in c:\\users\\david\\appdata\\local\\programs\\python\\python37-32\\lib\\site-packages (from python-dateutil>=2.1->matplotlib>=1.4.3->seaborn) (1.12.0)\n",
      "Requirement already satisfied: numpy in c:\\users\\david\\appdata\\local\\programs\\python\\python37-32\\lib\\site-packages (1.16.2)\n",
      "Requirement already satisfied: matplotlib in c:\\users\\david\\appdata\\local\\programs\\python\\python37-32\\lib\\site-packages (3.0.3)\n",
      "Requirement already satisfied: pyparsing!=2.0.4,!=2.1.2,!=2.1.6,>=2.0.1 in c:\\users\\david\\appdata\\local\\programs\\python\\python37-32\\lib\\site-packages (from matplotlib) (2.4.0)\n",
      "Requirement already satisfied: cycler>=0.10 in c:\\users\\david\\appdata\\local\\programs\\python\\python37-32\\lib\\site-packages (from matplotlib) (0.10.0)\n",
      "Requirement already satisfied: numpy>=1.10.0 in c:\\users\\david\\appdata\\local\\programs\\python\\python37-32\\lib\\site-packages (from matplotlib) (1.16.2)\n",
      "Requirement already satisfied: kiwisolver>=1.0.1 in c:\\users\\david\\appdata\\local\\programs\\python\\python37-32\\lib\\site-packages (from matplotlib) (1.0.1)\n",
      "Requirement already satisfied: python-dateutil>=2.1 in c:\\users\\david\\appdata\\local\\programs\\python\\python37-32\\lib\\site-packages (from matplotlib) (2.8.0)\n",
      "Requirement already satisfied: six in c:\\users\\david\\appdata\\local\\programs\\python\\python37-32\\lib\\site-packages (from cycler>=0.10->matplotlib) (1.12.0)\n",
      "Requirement already satisfied: setuptools in c:\\users\\david\\appdata\\local\\programs\\python\\python37-32\\lib\\site-packages (from kiwisolver>=1.0.1->matplotlib) (40.6.2)\n",
      "Requirement already satisfied: IPython in c:\\users\\david\\appdata\\local\\programs\\python\\python37-32\\lib\\site-packages (7.4.0)\n",
      "Requirement already satisfied: backcall in c:\\users\\david\\appdata\\local\\programs\\python\\python37-32\\lib\\site-packages (from IPython) (0.1.0)\n",
      "Requirement already satisfied: traitlets>=4.2 in c:\\users\\david\\appdata\\local\\programs\\python\\python37-32\\lib\\site-packages (from IPython) (4.3.2)\n",
      "Requirement already satisfied: colorama; sys_platform == \"win32\" in c:\\users\\david\\appdata\\roaming\\python\\python37\\site-packages (from IPython) (0.4.1)\n",
      "Requirement already satisfied: jedi>=0.10 in c:\\users\\david\\appdata\\local\\programs\\python\\python37-32\\lib\\site-packages (from IPython) (0.13.3)\n",
      "Requirement already satisfied: pickleshare in c:\\users\\david\\appdata\\local\\programs\\python\\python37-32\\lib\\site-packages (from IPython) (0.7.5)\n",
      "Requirement already satisfied: prompt-toolkit<2.1.0,>=2.0.0 in c:\\users\\david\\appdata\\local\\programs\\python\\python37-32\\lib\\site-packages (from IPython) (2.0.9)\n",
      "Requirement already satisfied: decorator in c:\\users\\david\\appdata\\local\\programs\\python\\python37-32\\lib\\site-packages (from IPython) (4.4.0)\n",
      "Requirement already satisfied: pygments in c:\\users\\david\\appdata\\local\\programs\\python\\python37-32\\lib\\site-packages (from IPython) (2.3.1)\n",
      "Requirement already satisfied: setuptools>=18.5 in c:\\users\\david\\appdata\\local\\programs\\python\\python37-32\\lib\\site-packages (from IPython) (40.6.2)\n",
      "Requirement already satisfied: six in c:\\users\\david\\appdata\\local\\programs\\python\\python37-32\\lib\\site-packages (from traitlets>=4.2->IPython) (1.12.0)\n",
      "Requirement already satisfied: ipython-genutils in c:\\users\\david\\appdata\\local\\programs\\python\\python37-32\\lib\\site-packages (from traitlets>=4.2->IPython) (0.2.0)\n",
      "Requirement already satisfied: parso>=0.3.0 in c:\\users\\david\\appdata\\local\\programs\\python\\python37-32\\lib\\site-packages (from jedi>=0.10->IPython) (0.4.0)\n",
      "Requirement already satisfied: wcwidth in c:\\users\\david\\appdata\\local\\programs\\python\\python37-32\\lib\\site-packages (from prompt-toolkit<2.1.0,>=2.0.0->IPython) (0.1.7)\n"
     ]
    }
   ],
   "source": [
    "!pip install pandas\n",
    "!pip install seaborn\n",
    "!pip install numpy\n",
    "!pip install matplotlib\n",
    "!pip install IPython"
   ]
  },
  {
   "cell_type": "code",
   "execution_count": 3,
   "metadata": {
    "collapsed": false,
    "scrolled": false
   },
   "outputs": [],
   "source": [
    "import pandas as pd\n",
    "import seaborn as sns\n",
    "import numpy as np\n",
    "import matplotlib.pyplot as plt\n",
    "from IPython.display import Image\n",
    "from IPython import display\n",
    "%matplotlib inline"
   ]
  },
  {
   "cell_type": "markdown",
   "metadata": {},
   "source": [
    "# Correlation: What is it?\n",
    "\n",
    "In this notebook, we will discuss the idea of correlation. Formally, correlation is a statistical measurement of the relationship between two variables. Here are some examples:\n",
    "- Exercise and Calorie Loss\n",
    "- Height and Weight\n",
    "- Temperature and Ice Cream Sales\n",
    "- Hours studied and Score on Exam\n",
    "- Spending and Salary\n",
    "- Tardiness and School Grades\n",
    "\n",
    "Is the number of people who drowned by falling into a pool correlated with the amount of films that Nicolas Cage appeared in per year? If so, is this a casual relationship or is it just coincidence?"
   ]
  },
  {
   "cell_type": "code",
   "execution_count": 11,
   "metadata": {
    "collapsed": false,
    "scrolled": false
   },
   "outputs": [
    {
     "name": "stdout",
     "output_type": "stream",
     "text": [
      "Source: http://www.tylervigen.com/spurious-correlations\n"
     ]
    },
    {
     "data": {
      "image/png": "cage.png",
      "text/plain": [
       "<IPython.core.display.Image object>"
      ]
     },
     "execution_count": 11,
     "metadata": {},
     "output_type": "execute_result"
    }
   ],
   "source": [
    "print('Source: http://www.tylervigen.com/spurious-correlations')\n",
    "display.Image('cage.png')"
   ]
  },
  {
   "cell_type": "markdown",
   "metadata": {},
   "source": [
    "# Part 1: Stats Review"
   ]
  },
  {
   "cell_type": "code",
   "execution_count": 12,
   "metadata": {
    "collapsed": false
   },
   "outputs": [],
   "source": [
    "arr = np.array([3, 7, 9, 15, 4, 6, 19, 5, 1, 9, 15, 7, 9, 3, 2, 9, 5, 5, 2, 3, 5, 9, 14, 13, 14, 2, 5, 19, 5, 3])"
   ]
  },
  {
   "cell_type": "markdown",
   "metadata": {},
   "source": [
    "**Question 1.1** Find the mean of the array ```arr``` and store it in the variable `arr_mean`\n",
    "\n",
    "*Hint: Use the method* ```np.mean(array)```"
   ]
  },
  {
   "cell_type": "code",
   "execution_count": 13,
   "metadata": {
    "collapsed": false
   },
   "outputs": [
    {
     "data": {
      "text/plain": [
       "7.5666666666666664"
      ]
     },
     "execution_count": 13,
     "metadata": {},
     "output_type": "execute_result"
    }
   ],
   "source": [
    "arr_mean = np.mean(arr)\n",
    "arr_mean"
   ]
  },
  {
   "cell_type": "markdown",
   "metadata": {},
   "source": [
    "**Question 1.2** Find the standard deviation of the array ```arr``` without using `np.std` and store it in the variable `arr_std`\n",
    "\n",
    "The formula for standard deviation is $$SD(X) = \\sqrt{\\frac{\\sum{(x_i - \\overline{x})^2}}{n}}$$"
   ]
  },
  {
   "cell_type": "code",
   "execution_count": 14,
   "metadata": {
    "collapsed": false
   },
   "outputs": [
    {
     "data": {
      "text/plain": [
       "5.0641441088850891"
      ]
     },
     "execution_count": 14,
     "metadata": {},
     "output_type": "execute_result"
    }
   ],
   "source": [
    "arr_std = np.sqrt(sum((arr - arr_mean)**2) / (len(arr)))\n",
    "arr_std"
   ]
  },
  {
   "cell_type": "markdown",
   "metadata": {},
   "source": [
    "**Question 1.3** Use `np.std` to check that the standard deviation that you computed is correct"
   ]
  },
  {
   "cell_type": "code",
   "execution_count": 15,
   "metadata": {
    "collapsed": false
   },
   "outputs": [
    {
     "data": {
      "text/plain": [
       "True"
      ]
     },
     "execution_count": 15,
     "metadata": {},
     "output_type": "execute_result"
    }
   ],
   "source": [
    "std = np.std(arr)\n",
    "std == arr_std"
   ]
  },
  {
   "cell_type": "markdown",
   "metadata": {},
   "source": [
    "Converting an array to \"Standard Units\" means that each value will now correspond to the amount of standard deviations it is away from the mean(you may recognize this as z-score). The next cell will define a function `standard_units` that converts an array of numbers to standard units."
   ]
  },
  {
   "cell_type": "code",
   "execution_count": 16,
   "metadata": {
    "collapsed": false
   },
   "outputs": [],
   "source": [
    "def standard_units(array):\n",
    "    return (array - np.mean(array))/np.std(array)"
   ]
  },
  {
   "cell_type": "markdown",
   "metadata": {},
   "source": [
    "**Question 1.4** Use our new function to convert `arr` into standard units and store it into the variable `standard_arr`"
   ]
  },
  {
   "cell_type": "code",
   "execution_count": 17,
   "metadata": {
    "collapsed": false
   },
   "outputs": [
    {
     "data": {
      "text/plain": [
       "array([-0.90176475, -0.11189782,  0.28303565,  1.46783606, -0.70429802,\n",
       "       -0.30936455,  2.257703  , -0.50683129, -1.29669822,  0.28303565,\n",
       "        1.46783606, -0.11189782,  0.28303565, -0.90176475, -1.09923149,\n",
       "        0.28303565, -0.50683129, -0.50683129, -1.09923149, -0.90176475,\n",
       "       -0.50683129,  0.28303565,  1.27036933,  1.07290259,  1.27036933,\n",
       "       -1.09923149, -0.50683129,  2.257703  , -0.50683129, -0.90176475])"
      ]
     },
     "execution_count": 17,
     "metadata": {},
     "output_type": "execute_result"
    }
   ],
   "source": [
    "standard_arr = standard_units(arr)\n",
    "standard_arr"
   ]
  },
  {
   "cell_type": "markdown",
   "metadata": {},
   "source": [
    "Now, we will create an array called `arr2` that will be very similar to arr but with slightly different values. `arr2` is converted into standard units in the cell block below."
   ]
  },
  {
   "cell_type": "code",
   "execution_count": 18,
   "metadata": {
    "collapsed": false,
    "scrolled": true
   },
   "outputs": [],
   "source": [
    "arr2 = np.array([3, 8, 7, 13, 5, 7, 20, 4, 1, 9, 16, 8, 15, 4, 4, 7, 6, 5, 10, 3, 5, 9, 14, 14, 12, 4, 5, 15, 5, 5])\n",
    "standard_arr2 = standard_units(arr2)"
   ]
  },
  {
   "cell_type": "markdown",
   "metadata": {},
   "source": [
    "Here is a scatterplot of `arr` on the x-axis and `arr_2` on the y_axis. Does our data look linear? Why?"
   ]
  },
  {
   "cell_type": "code",
   "execution_count": 19,
   "metadata": {
    "collapsed": false
   },
   "outputs": [
    {
     "data": {
      "image/png": "[encoded data removed]",
      "text/plain": [
       "<matplotlib.figure.Figure at 0x251a8c296d8>"
      ]
     },
     "metadata": {},
     "output_type": "display_data"
    }
   ],
   "source": [
    "sns.scatterplot(standard_arr, standard_arr2)\n",
    "plt.xlabel('standard_arr', size=16)\n",
    "plt.ylabel('standard_arr2', size=16);"
   ]
  },
  {
   "cell_type": "markdown",
   "metadata": {},
   "source": [
    "Below is a regplot(regression plot) of the same data. A Seaborn Regplot is similar to a scatterplot, but it draws a line of best fit through the data."
   ]
  },
  {
   "cell_type": "code",
   "execution_count": 20,
   "metadata": {
    "collapsed": false
   },
   "outputs": [
    {
     "data": {
      "image/png": "[encoded data removed]",
      "text/plain": [
       "<matplotlib.figure.Figure at 0x251a8f6d860>"
      ]
     },
     "metadata": {},
     "output_type": "display_data"
    }
   ],
   "source": [
    "sns.regplot(standard_arr, standard_arr2, ci=None)\n",
    "plt.xlabel('standard_arr', size=16)\n",
    "plt.ylabel('standard_arr2', size=16);"
   ]
  },
  {
   "cell_type": "markdown",
   "metadata": {},
   "source": [
    "Finally, we will calculate the correlation coefficient(commonly denoted as $r$) of these two arrays. The **correlation** is the linear association between two variables. Visually, you can interpret this as how well the data clusters around a straight line.\n",
    "\n",
    "We can calculate correlation by \n",
    "- Converting both arrays to standard units\n",
    "- Finding the product of the two standardized arrays\n",
    "- Finding the average of the products\n",
    "\n",
    "Correlation must be between $-1$ and $1$, where the magnitude represents the steepness of the best-fit line and the sign represents whether the variables are positively correlated or negatively correlated."
   ]
  },
  {
   "cell_type": "markdown",
   "metadata": {},
   "source": [
    "**Question 1.5** Compute the correlation coefficient of `standard_arr` and `standard_arr2` and store it in the variable `r`\n",
    "\n",
    "*Hint: `arr` and `arr2` are already in standard units*"
   ]
  },
  {
   "cell_type": "code",
   "execution_count": 21,
   "metadata": {
    "collapsed": false
   },
   "outputs": [
    {
     "data": {
      "text/plain": [
       "0.90068574881661334"
      ]
     },
     "execution_count": 21,
     "metadata": {},
     "output_type": "execute_result"
    }
   ],
   "source": [
    "r = np.mean(standard_arr * standard_arr2)\n",
    "r"
   ]
  },
  {
   "cell_type": "markdown",
   "metadata": {},
   "source": [
    "Is our data positively or negatively correlated? Does the value of $r$ make sense given the graphs above?"
   ]
  },
  {
   "cell_type": "markdown",
   "metadata": {},
   "source": [
    "# Part 2: College Data\n",
    "Now that we have the basic building blocks to calculate correlation, we will attempt to answer the following question.\n",
    "\n",
    "**Is there a correlation between a college's admission rate and its average SAT score?**"
   ]
  },
  {
   "cell_type": "markdown",
   "metadata": {},
   "source": [
    "Below, we will use a dataset from *college scorecard* that contains college admission data from 2018. The data is extracted using a common Python datascience library called 'pandas'. You are welcome to try and follow along, but feel free to just run the cells below.\n",
    "\n",
    "CSV Source: https://collegescorecard.ed.gov/data/"
   ]
  },
  {
   "cell_type": "code",
   "execution_count": 22,
   "metadata": {
    "collapsed": false
   },
   "outputs": [
    {
     "data": {
      "text/html": [
       "<div>\n",
       "<style scoped>\n",
       "    .dataframe tbody tr th:only-of-type {\n",
       "        vertical-align: middle;\n",
       "    }\n",
       "\n",
       "    .dataframe tbody tr th {\n",
       "        vertical-align: top;\n",
       "    }\n",
       "\n",
       "    .dataframe thead th {\n",
       "        text-align: right;\n",
       "    }\n",
       "</style>\n",
       "<table border=\"1\" class=\"dataframe\">\n",
       "  <thead>\n",
       "    <tr style=\"text-align: right;\">\n",
       "      <th></th>\n",
       "      <th>UNITID</th>\n",
       "      <th>INSTNM</th>\n",
       "      <th>CITY</th>\n",
       "      <th>STABBR</th>\n",
       "      <th>CONTROL</th>\n",
       "      <th>CCBASIC</th>\n",
       "      <th>ADM_RATE</th>\n",
       "      <th>SAT_AVG</th>\n",
       "      <th>UGDS</th>\n",
       "      <th>UGDS_WHITE</th>\n",
       "      <th>...</th>\n",
       "      <th>NPT4_PRIV</th>\n",
       "      <th>COSTT4_A</th>\n",
       "      <th>TUITFTE</th>\n",
       "      <th>INEXPFTE</th>\n",
       "      <th>PFTFAC</th>\n",
       "      <th>PCTPELL</th>\n",
       "      <th>C150_4</th>\n",
       "      <th>PFTFTUG1_EF</th>\n",
       "      <th>RET_FT4</th>\n",
       "      <th>PCTFLOAN</th>\n",
       "    </tr>\n",
       "  </thead>\n",
       "  <tbody>\n",
       "    <tr>\n",
       "      <th>0</th>\n",
       "      <td>100654</td>\n",
       "      <td>Alabama A &amp; M University</td>\n",
       "      <td>Normal</td>\n",
       "      <td>AL</td>\n",
       "      <td>1</td>\n",
       "      <td>18.0</td>\n",
       "      <td>0.5256</td>\n",
       "      <td>827.0</td>\n",
       "      <td>4206.0</td>\n",
       "      <td>0.0333</td>\n",
       "      <td>...</td>\n",
       "      <td>NaN</td>\n",
       "      <td>21475.0</td>\n",
       "      <td>9427.0</td>\n",
       "      <td>7437.0</td>\n",
       "      <td>0.8967</td>\n",
       "      <td>0.7356</td>\n",
       "      <td>0.3525</td>\n",
       "      <td>0.8578</td>\n",
       "      <td>0.6595</td>\n",
       "      <td>0.8284</td>\n",
       "    </tr>\n",
       "    <tr>\n",
       "      <th>1</th>\n",
       "      <td>100663</td>\n",
       "      <td>University of Alabama at Birmingham</td>\n",
       "      <td>Birmingham</td>\n",
       "      <td>AL</td>\n",
       "      <td>1</td>\n",
       "      <td>15.0</td>\n",
       "      <td>0.8569</td>\n",
       "      <td>1107.0</td>\n",
       "      <td>11383.0</td>\n",
       "      <td>0.5922</td>\n",
       "      <td>...</td>\n",
       "      <td>NaN</td>\n",
       "      <td>20621.0</td>\n",
       "      <td>9899.0</td>\n",
       "      <td>17920.0</td>\n",
       "      <td>0.9072</td>\n",
       "      <td>0.3460</td>\n",
       "      <td>0.5554</td>\n",
       "      <td>0.5041</td>\n",
       "      <td>0.8288</td>\n",
       "      <td>0.5214</td>\n",
       "    </tr>\n",
       "    <tr>\n",
       "      <th>2</th>\n",
       "      <td>100690</td>\n",
       "      <td>Amridge University</td>\n",
       "      <td>Montgomery</td>\n",
       "      <td>AL</td>\n",
       "      <td>2</td>\n",
       "      <td>20.0</td>\n",
       "      <td>NaN</td>\n",
       "      <td>NaN</td>\n",
       "      <td>291.0</td>\n",
       "      <td>0.2990</td>\n",
       "      <td>...</td>\n",
       "      <td>12992.0</td>\n",
       "      <td>16370.0</td>\n",
       "      <td>12459.0</td>\n",
       "      <td>5532.0</td>\n",
       "      <td>0.6000</td>\n",
       "      <td>0.6801</td>\n",
       "      <td>0.2222</td>\n",
       "      <td>0.5000</td>\n",
       "      <td>0.0000</td>\n",
       "      <td>0.7795</td>\n",
       "    </tr>\n",
       "    <tr>\n",
       "      <th>3</th>\n",
       "      <td>100706</td>\n",
       "      <td>University of Alabama in Huntsville</td>\n",
       "      <td>Huntsville</td>\n",
       "      <td>AL</td>\n",
       "      <td>1</td>\n",
       "      <td>16.0</td>\n",
       "      <td>0.8203</td>\n",
       "      <td>1219.0</td>\n",
       "      <td>5451.0</td>\n",
       "      <td>0.6988</td>\n",
       "      <td>...</td>\n",
       "      <td>NaN</td>\n",
       "      <td>21107.0</td>\n",
       "      <td>8956.0</td>\n",
       "      <td>10211.0</td>\n",
       "      <td>0.6221</td>\n",
       "      <td>0.3072</td>\n",
       "      <td>0.4614</td>\n",
       "      <td>0.4750</td>\n",
       "      <td>0.7696</td>\n",
       "      <td>0.4596</td>\n",
       "    </tr>\n",
       "    <tr>\n",
       "      <th>4</th>\n",
       "      <td>100724</td>\n",
       "      <td>Alabama State University</td>\n",
       "      <td>Montgomery</td>\n",
       "      <td>AL</td>\n",
       "      <td>1</td>\n",
       "      <td>19.0</td>\n",
       "      <td>0.5326</td>\n",
       "      <td>851.0</td>\n",
       "      <td>4811.0</td>\n",
       "      <td>0.0158</td>\n",
       "      <td>...</td>\n",
       "      <td>NaN</td>\n",
       "      <td>18184.0</td>\n",
       "      <td>7733.0</td>\n",
       "      <td>7618.0</td>\n",
       "      <td>0.6539</td>\n",
       "      <td>0.7347</td>\n",
       "      <td>0.2632</td>\n",
       "      <td>0.8812</td>\n",
       "      <td>0.5725</td>\n",
       "      <td>0.7554</td>\n",
       "    </tr>\n",
       "  </tbody>\n",
       "</table>\n",
       "<p>5 rows × 30 columns</p>\n",
       "</div>"
      ],
      "text/plain": [
       "   UNITID                               INSTNM        CITY STABBR  CONTROL  \\\n",
       "0  100654             Alabama A & M University      Normal     AL        1   \n",
       "1  100663  University of Alabama at Birmingham  Birmingham     AL        1   \n",
       "2  100690                   Amridge University  Montgomery     AL        2   \n",
       "3  100706  University of Alabama in Huntsville  Huntsville     AL        1   \n",
       "4  100724             Alabama State University  Montgomery     AL        1   \n",
       "\n",
       "   CCBASIC  ADM_RATE  SAT_AVG     UGDS  UGDS_WHITE    ...     NPT4_PRIV  \\\n",
       "0     18.0    0.5256    827.0   4206.0      0.0333    ...           NaN   \n",
       "1     15.0    0.8569   1107.0  11383.0      0.5922    ...           NaN   \n",
       "2     20.0       NaN      NaN    291.0      0.2990    ...       12992.0   \n",
       "3     16.0    0.8203   1219.0   5451.0      0.6988    ...           NaN   \n",
       "4     19.0    0.5326    851.0   4811.0      0.0158    ...           NaN   \n",
       "\n",
       "   COSTT4_A  TUITFTE  INEXPFTE  PFTFAC  PCTPELL  C150_4  PFTFTUG1_EF  RET_FT4  \\\n",
       "0   21475.0   9427.0    7437.0  0.8967   0.7356  0.3525       0.8578   0.6595   \n",
       "1   20621.0   9899.0   17920.0  0.9072   0.3460  0.5554       0.5041   0.8288   \n",
       "2   16370.0  12459.0    5532.0  0.6000   0.6801  0.2222       0.5000   0.0000   \n",
       "3   21107.0   8956.0   10211.0  0.6221   0.3072  0.4614       0.4750   0.7696   \n",
       "4   18184.0   7733.0    7618.0  0.6539   0.7347  0.2632       0.8812   0.5725   \n",
       "\n",
       "   PCTFLOAN  \n",
       "0    0.8284  \n",
       "1    0.5214  \n",
       "2    0.7795  \n",
       "3    0.4596  \n",
       "4    0.7554  \n",
       "\n",
       "[5 rows x 30 columns]"
      ]
     },
     "execution_count": 22,
     "metadata": {},
     "output_type": "execute_result"
    }
   ],
   "source": [
    "college = pd.read_csv('college.csv', encoding = \"ISO-8859-1\")\n",
    "college.head()"
   ]
  },
  {
   "cell_type": "code",
   "execution_count": 23,
   "metadata": {
    "collapsed": false,
    "scrolled": true
   },
   "outputs": [
    {
     "data": {
      "text/html": [
       "<div>\n",
       "<style scoped>\n",
       "    .dataframe tbody tr th:only-of-type {\n",
       "        vertical-align: middle;\n",
       "    }\n",
       "\n",
       "    .dataframe tbody tr th {\n",
       "        vertical-align: top;\n",
       "    }\n",
       "\n",
       "    .dataframe thead th {\n",
       "        text-align: right;\n",
       "    }\n",
       "</style>\n",
       "<table border=\"1\" class=\"dataframe\">\n",
       "  <thead>\n",
       "    <tr style=\"text-align: right;\">\n",
       "      <th></th>\n",
       "      <th>Name</th>\n",
       "      <th>Admit</th>\n",
       "      <th>SAT</th>\n",
       "    </tr>\n",
       "  </thead>\n",
       "  <tbody>\n",
       "    <tr>\n",
       "      <th>0</th>\n",
       "      <td>Alabama A &amp; M University</td>\n",
       "      <td>0.5256</td>\n",
       "      <td>827.0</td>\n",
       "    </tr>\n",
       "    <tr>\n",
       "      <th>1</th>\n",
       "      <td>University of Alabama at Birmingham</td>\n",
       "      <td>0.8569</td>\n",
       "      <td>1107.0</td>\n",
       "    </tr>\n",
       "    <tr>\n",
       "      <th>3</th>\n",
       "      <td>University of Alabama in Huntsville</td>\n",
       "      <td>0.8203</td>\n",
       "      <td>1219.0</td>\n",
       "    </tr>\n",
       "    <tr>\n",
       "      <th>4</th>\n",
       "      <td>Alabama State University</td>\n",
       "      <td>0.5326</td>\n",
       "      <td>851.0</td>\n",
       "    </tr>\n",
       "    <tr>\n",
       "      <th>5</th>\n",
       "      <td>The University of Alabama</td>\n",
       "      <td>0.5105</td>\n",
       "      <td>1185.0</td>\n",
       "    </tr>\n",
       "  </tbody>\n",
       "</table>\n",
       "</div>"
      ],
      "text/plain": [
       "                                  Name   Admit     SAT\n",
       "0             Alabama A & M University  0.5256   827.0\n",
       "1  University of Alabama at Birmingham  0.8569  1107.0\n",
       "3  University of Alabama in Huntsville  0.8203  1219.0\n",
       "4             Alabama State University  0.5326   851.0\n",
       "5            The University of Alabama  0.5105  1185.0"
      ]
     },
     "execution_count": 23,
     "metadata": {},
     "output_type": "execute_result"
    }
   ],
   "source": [
    "college = college[['INSTNM', 'ADM_RATE', 'SAT_AVG']]\n",
    "college = college.rename(index=str, columns={'INSTNM': 'Name','ADM_RATE': 'Admit', 'SAT_AVG': 'SAT'})\n",
    "college = college[college.Admit.notnull()]\n",
    "college = college[college.SAT.notnull()]\n",
    "college.head()"
   ]
  },
  {
   "cell_type": "markdown",
   "metadata": {},
   "source": [
    "If you want to see the admission rate and average SAT score of a college that you're interested in(or maybe applied to), replace 'Berkeley' with the college of interest. \n",
    "\n",
    "Note: The code below is a simple string contains method, so keep your query short and simple."
   ]
  },
  {
   "cell_type": "code",
   "execution_count": 24,
   "metadata": {
    "collapsed": false
   },
   "outputs": [
    {
     "data": {
      "text/html": [
       "<div>\n",
       "<style scoped>\n",
       "    .dataframe tbody tr th:only-of-type {\n",
       "        vertical-align: middle;\n",
       "    }\n",
       "\n",
       "    .dataframe tbody tr th {\n",
       "        vertical-align: top;\n",
       "    }\n",
       "\n",
       "    .dataframe thead th {\n",
       "        text-align: right;\n",
       "    }\n",
       "</style>\n",
       "<table border=\"1\" class=\"dataframe\">\n",
       "  <thead>\n",
       "    <tr style=\"text-align: right;\">\n",
       "      <th></th>\n",
       "      <th>Name</th>\n",
       "      <th>Admit</th>\n",
       "      <th>SAT</th>\n",
       "    </tr>\n",
       "  </thead>\n",
       "  <tbody>\n",
       "    <tr>\n",
       "      <th>243</th>\n",
       "      <td>University of California-Berkeley</td>\n",
       "      <td>0.1602</td>\n",
       "      <td>1382.0</td>\n",
       "    </tr>\n",
       "  </tbody>\n",
       "</table>\n",
       "</div>"
      ],
      "text/plain": [
       "                                  Name   Admit     SAT\n",
       "243  University of California-Berkeley  0.1602  1382.0"
      ]
     },
     "execution_count": 24,
     "metadata": {},
     "output_type": "execute_result"
    }
   ],
   "source": [
    "def find_college(name):\n",
    "    return college[college['Name'].str.contains(name)]\n",
    "\n",
    "find_college('Berkeley')"
   ]
  },
  {
   "cell_type": "markdown",
   "metadata": {},
   "source": [
    "**Question 2.1:** `admit` is an array of admission rates for each college and `sat` is an array of the average SAT score for admitted applicants. Find the mean and standard deviation for both arrays."
   ]
  },
  {
   "cell_type": "code",
   "execution_count": 25,
   "metadata": {
    "collapsed": false
   },
   "outputs": [],
   "source": [
    "admit = np.array(college.Admit)\n",
    "sat = np.array(college.SAT)\n",
    "\n",
    "admit_mean = np.mean(admit)\n",
    "admit_std = np.std(admit)\n",
    "sat_mean = np.mean(sat)\n",
    "sat_std = np.std(sat)"
   ]
  },
  {
   "cell_type": "markdown",
   "metadata": {},
   "source": [
    "**Question 2.2:** Using the `standard_units` function that we defined earlier, convert `admit` and `sat` to standard units "
   ]
  },
  {
   "cell_type": "code",
   "execution_count": 26,
   "metadata": {
    "collapsed": false
   },
   "outputs": [],
   "source": [
    "admit_standard = standard_units(admit)\n",
    "sat_standard = standard_units(sat)"
   ]
  },
  {
   "cell_type": "markdown",
   "metadata": {},
   "source": [
    "**Question 2.3.1:** Create a scatterplot of `admit_standard` and `sat_standard`\n",
    "\n",
    "1) Are the variables positively or negatively correlated?\n",
    "\n",
    "2) Is the correlation between our variables weak or strong? How do you know?\n",
    "\n",
    "3) What do you expect the graph to look like? Make a prediction of the correlation value."
   ]
  },
  {
   "cell_type": "code",
   "execution_count": 27,
   "metadata": {
    "collapsed": false
   },
   "outputs": [
    {
     "data": {
      "image/png": "[encoded data removed]",
      "text/plain": [
       "<matplotlib.figure.Figure at 0x251a9cc85f8>"
      ]
     },
     "metadata": {},
     "output_type": "display_data"
    }
   ],
   "source": [
    "sns.scatterplot(admit_standard, sat_standard)\n",
    "plt.xlabel(\"Admit Rate(Standard)\", size=16)\n",
    "plt.ylabel(\"SAT average(Standard)\", size=16);\n"
   ]
  },
  {
   "cell_type": "code",
   "execution_count": 28,
   "metadata": {
    "collapsed": true
   },
   "outputs": [],
   "source": [
    "r_prediction = -0.5"
   ]
  },
  {
   "cell_type": "markdown",
   "metadata": {},
   "source": [
    "**Question 2.3.2:** Find the correlation between admission rate and average sat score."
   ]
  },
  {
   "cell_type": "code",
   "execution_count": 29,
   "metadata": {
    "collapsed": false,
    "scrolled": true
   },
   "outputs": [
    {
     "data": {
      "text/plain": [
       "-0.35436239595131053"
      ]
     },
     "execution_count": 29,
     "metadata": {},
     "output_type": "execute_result"
    }
   ],
   "source": [
    "r_college = np.mean(admit_standard * sat_standard)\n",
    "r_college"
   ]
  },
  {
   "cell_type": "markdown",
   "metadata": {},
   "source": [
    "**Question 2.4:** Given our correlation value `r_college`:\n",
    "\n",
    "1) Are the variables positively or negatively correlated?\n",
    "\n",
    "2) Is the correlation between our variables weak or strong? How do you know?\n",
    "\n",
    "3) What do you expect the graph to look like?"
   ]
  },
  {
   "cell_type": "markdown",
   "metadata": {},
   "source": [
    "**Question 2.5:** Create a regplot of `admit_standard` and `sat_standard`. Does this graph match your expectations?\n",
    "\n",
    "*Hint: See the regplot created above*"
   ]
  },
  {
   "cell_type": "code",
   "execution_count": 30,
   "metadata": {
    "collapsed": false
   },
   "outputs": [
    {
     "data": {
      "image/png": "[encoded data removed]",
      "text/plain": [
       "<matplotlib.figure.Figure at 0x251a8f51d30>"
      ]
     },
     "metadata": {},
     "output_type": "display_data"
    }
   ],
   "source": [
    "sns.regplot(admit_standard, sat_standard)\n",
    "plt.xlabel('Admit Rate(Standard)', size=16)\n",
    "plt.ylabel('SAT Average(Standard)', size=16);"
   ]
  },
  {
   "cell_type": "markdown",
   "metadata": {},
   "source": [
    "Hopefully, you have gained a better intuition about what correlation is from this notebook. There are a lot of intricacies about correlation that we didn't cover to keep things relatively simple such as:\n",
    "\n",
    "- What if our data isn't linear at all? Does our calculation of `r` still work?\n",
    "- Where do the equations come from? Why do we have to convert to standard units?\n",
    "\n",
    "Thanks for completing the notebook!"
   ]
  }
 ],
 "metadata": {
  "kernelspec": {
   "display_name": "Python [Anaconda3]",
   "language": "python",
   "name": "Python [Anaconda3]"
  },
  "language_info": {
   "codemirror_mode": {
    "name": "ipython",
    "version": 3
   },
   "file_extension": ".py",
   "mimetype": "text/x-python",
   "name": "python",
   "nbconvert_exporter": "python",
   "pygments_lexer": "ipython3",
   "version": "3.5.5"
  }
 },
 "nbformat": 4,
 "nbformat_minor": 0
}
